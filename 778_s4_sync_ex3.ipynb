{
  "cells": [
    {
      "cell_type": "markdown",
      "metadata": {
        "id": "view-in-github",
        "colab_type": "text"
      },
      "source": [
        "<a href=\"https://colab.research.google.com/github/dwayneglevene/Api_prac/blob/main/778_s4_sync_ex3.ipynb\" target=\"_parent\"><img src=\"https://colab.research.google.com/assets/colab-badge.svg\" alt=\"Open In Colab\"/></a>"
      ]
    },
    {
      "cell_type": "markdown",
      "id": "b5317032",
      "metadata": {
        "id": "b5317032"
      },
      "source": [
        "CSCI 778 - Session 4 - Exercise #3\n",
        "\n",
        "This notebook is about the RE exercises -- regular expressions.\n",
        "\n",
        "**You will need to make a COPY of this Jupyter notebook.  Working on the shared version will not be productive.**"
      ]
    },
    {
      "cell_type": "code",
      "execution_count": null,
      "id": "3972f8e1",
      "metadata": {
        "id": "3972f8e1"
      },
      "outputs": [],
      "source": [
        "# the built-in regular expressions library\n",
        "import re\n",
        "\n",
        "# there is also a library that can be downloaded:\n",
        "# import regex"
      ]
    },
    {
      "cell_type": "code",
      "execution_count": null,
      "id": "8ab40ca3",
      "metadata": {
        "id": "8ab40ca3"
      },
      "outputs": [],
      "source": [
        "sentences = [ \"My name is ___.\",\n",
        "             \"My name is ___.\"\n",
        "\t\t\"My email address is edgartroudt@gmail.com.\" ]"
      ]
    },
    {
      "cell_type": "markdown",
      "id": "4dd258fb",
      "metadata": {
        "id": "4dd258fb"
      },
      "source": [
        "**SETUP:**\n",
        "1.  Open this reference for assistance in answering the below questions: Child, D. (2020, March 12).  “Regular Expressions Cheat Sheet”.  https://cheatography.com/davechild/cheat-sheets/regular-expressions/pdf/.\n",
        "  \n",
        "\n",
        "\n",
        "**PART 1: Understanding the email regular expression:**  \n",
        "**Before the @ symbol:**\n",
        "1.  In the below code block, what does \\- and \\. mean?  Why do these need to be escaped with a \"\\\"?  Are these the only non-alphanumeric symbols that can be in an email address?\n",
        "\n",
        "1.  What does the a-zA-Z0-9_ mean?  (Hint: think ||.)\n",
        "\n",
        "1.  What does the [] encasing this mean?\n",
        "\n",
        "**After the @ symbol:**\n",
        "1. What does the {2,5} mean in the TLD area?\n",
        "    *  Recall from the lecture on FQDNs that TLDs are top level domains (e.g., .com, .edu).\n",
        "  \n",
        "    \n",
        "**PART 2: Recognizing a name:**\n",
        "1.  In the above code, replace the ___ with each partner's name.\n",
        "\n",
        "1.  Modify the below code to look at those two sentences and extract the name using a regular expression.\n"
      ]
    },
    {
      "cell_type": "code",
      "execution_count": null,
      "id": "6004d65c",
      "metadata": {
        "id": "6004d65c"
      },
      "outputs": [],
      "source": [
        "# Match the email address only.\n",
        "# RE syntax taken from: https://www.geeksforgeeks.org/write-regular-expressions/\n",
        "print( \"Original sentence:\\t\", end=\"\" )\n",
        "print( sentences[1] )\n",
        "mtch = re.search( \"([a-zA-Z0-9_\\-\\.]+)@([a-zA-Z0-9_\\-\\.]+)\\.([a-zA-Z]{2,5})\", sentences[1] )\n",
        "print ( f\"Match object returned:\\t{mtch}\" )\n",
        "print ( f\"Match was at:\\t\\t{mtch.span()}\" )\n",
        "print ( f\"Matched email is:\\t{mtch.group()}\" )"
      ]
    },
    {
      "cell_type": "markdown",
      "id": "3febb3a9",
      "metadata": {
        "id": "3febb3a9"
      },
      "source": [
        "**Overtime Exercise**: Run and understand the code below."
      ]
    },
    {
      "cell_type": "code",
      "execution_count": null,
      "id": "5884828b",
      "metadata": {
        "id": "5884828b"
      },
      "outputs": [],
      "source": [
        "# OVERTIME EXERCISE\n",
        "# uses multiple substitute functions to individually capitalize vowels.\n",
        "\n",
        "print( sentences[2] )\n",
        "\n",
        "x = re.sub( r\"a+\", \"A\", sentences[0] )\n",
        "x = re.sub( r\"e+\", \"E\", x )\n",
        "x = re.sub( r\"i+\", \"I\", x )\n",
        "x = re.sub( r\"o+\", \"O\", x )\n",
        "x = re.sub( r\"u+\", \"U\", x )\n",
        "print ( x )"
      ]
    }
  ],
  "metadata": {
    "kernelspec": {
      "display_name": "Python 3",
      "language": "python",
      "name": "python3"
    },
    "language_info": {
      "codemirror_mode": {
        "name": "ipython",
        "version": 3
      },
      "file_extension": ".py",
      "mimetype": "text/x-python",
      "name": "python",
      "nbconvert_exporter": "python",
      "pygments_lexer": "ipython3",
      "version": "3.12.10"
    },
    "colab": {
      "provenance": [],
      "include_colab_link": true
    }
  },
  "nbformat": 4,
  "nbformat_minor": 5
}